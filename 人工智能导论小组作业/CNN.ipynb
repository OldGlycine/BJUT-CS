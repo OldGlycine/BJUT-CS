{
 "cells": [
  {
   "cell_type": "code",
   "execution_count": 1,
   "metadata": {},
   "outputs": [
    {
     "data": {
      "text/plain": [
       "device(type='cuda', index=0)"
      ]
     },
     "execution_count": 1,
     "metadata": {},
     "output_type": "execute_result"
    }
   ],
   "source": [
    "%matplotlib inline\n",
    "import torch\n",
    "import torchvision\n",
    "import gzip\n",
    "import matplotlib\n",
    "import torch \n",
    "import torch.nn as nn\n",
    "import torchvision\n",
    "import numpy as np\n",
    "import torchvision.transforms as transforms\n",
    "import matplotlib.pyplot as plt\n",
    "\n",
    "\n",
    "device = torch.device('cuda:0' if torch.cuda.is_available() else 'cpu')\n",
    "device\n"
   ]
  },
  {
   "attachments": {},
   "cell_type": "markdown",
   "metadata": {},
   "source": [
    "## 定义超参数"
   ]
  },
  {
   "cell_type": "code",
   "execution_count": 2,
   "metadata": {},
   "outputs": [],
   "source": [
    "# num_epochs = 15\n",
    "num_classes = 10\n",
    "batch_size = 100\n",
    "# learning_rate = 0.0005\n",
    "\n",
    "lr = [0.0005]\n",
    "num_epochs = [15]\n",
    "acc = 0"
   ]
  },
  {
   "attachments": {},
   "cell_type": "markdown",
   "metadata": {},
   "source": [
    "## 读取数据集"
   ]
  },
  {
   "cell_type": "code",
   "execution_count": 3,
   "metadata": {},
   "outputs": [],
   "source": [
    "train_dataset = torchvision.datasets.MNIST(root='../../data/',\n",
    "                                           train=True, \n",
    "                                           transform=transforms.ToTensor(),\n",
    "                                           download=True)\n",
    " \n",
    "test_dataset = torchvision.datasets.MNIST(root='../../data/',\n",
    "                                          train=False, \n",
    "                                          transform=transforms.ToTensor())\n",
    " \n",
    "# Data loader\n",
    "train_loader = torch.utils.data.DataLoader(dataset=train_dataset,\n",
    "                                           batch_size=batch_size, \n",
    "                                           shuffle=True)\n",
    " \n",
    "test_loader = torch.utils.data.DataLoader(dataset=test_dataset,\n",
    "                                          batch_size=batch_size,\n",
    "                                          shuffle=True)"
   ]
  },
  {
   "attachments": {},
   "cell_type": "markdown",
   "metadata": {},
   "source": [
    "## 定义CNN网络"
   ]
  },
  {
   "cell_type": "code",
   "execution_count": 4,
   "metadata": {},
   "outputs": [],
   "source": [
    "class Net(nn.Module):\n",
    "    def __init__(self, num_classes=10):\n",
    "        super(Net, self).__init__()\n",
    "        self.conv = nn.Sequential(\n",
    "            nn.Conv2d(1,6,kernel_size=5,padding=2),\n",
    "            nn.Sigmoid(),\n",
    "            nn.AvgPool2d(kernel_size=2,stride=2),\n",
    "            nn.Conv2d(6,16,kernel_size=5), \n",
    "            nn.Sigmoid(),\n",
    "            nn.AvgPool2d(kernel_size=2,stride=2),\n",
    "            nn.Flatten()\n",
    "         )\n",
    "        self.fc = nn.Sequential(\n",
    "            nn.Linear(400,120),\n",
    "            nn.Sigmoid(),\n",
    "            nn.Linear(120,84),\n",
    "            nn.Sigmoid(),\n",
    "            nn.Linear(84,10)\n",
    "        )\n",
    "    def forward(self,x):\n",
    "        out = self.conv(x)\n",
    "        out = self.fc(out)\n",
    "        return out\n"
   ]
  },
  {
   "attachments": {},
   "cell_type": "markdown",
   "metadata": {},
   "source": [
    "## 开始训练+预测"
   ]
  },
  {
   "cell_type": "code",
   "execution_count": 5,
   "metadata": {},
   "outputs": [
    {
     "name": "stdout",
     "output_type": "stream",
     "text": [
      "Epoch 1/15, Step 200/600, Loss: 2.297340\n",
      "Epoch 1/15, Step 400/600, Loss: 1.539344\n",
      "Epoch 1/15, Step 600/600, Loss: 1.007635\n",
      "Epoch 2/15, Step 200/600, Loss: 0.599984\n",
      "Epoch 2/15, Step 400/600, Loss: 0.467955\n",
      "Epoch 2/15, Step 600/600, Loss: 0.376591\n",
      "Epoch 3/15, Step 200/600, Loss: 0.413985\n",
      "Epoch 3/15, Step 400/600, Loss: 0.333720\n",
      "Epoch 3/15, Step 600/600, Loss: 0.400822\n",
      "Epoch 4/15, Step 200/600, Loss: 0.340355\n",
      "Epoch 4/15, Step 400/600, Loss: 0.252661\n",
      "Epoch 4/15, Step 600/600, Loss: 0.250909\n",
      "Epoch 5/15, Step 200/600, Loss: 0.150509\n",
      "Epoch 5/15, Step 400/600, Loss: 0.121516\n",
      "Epoch 5/15, Step 600/600, Loss: 0.176968\n",
      "Epoch 6/15, Step 200/600, Loss: 0.167003\n",
      "Epoch 6/15, Step 400/600, Loss: 0.277418\n",
      "Epoch 6/15, Step 600/600, Loss: 0.165757\n",
      "Epoch 7/15, Step 200/600, Loss: 0.124223\n",
      "Epoch 7/15, Step 400/600, Loss: 0.132113\n",
      "Epoch 7/15, Step 600/600, Loss: 0.136845\n",
      "Epoch 8/15, Step 200/600, Loss: 0.230968\n",
      "Epoch 8/15, Step 400/600, Loss: 0.150584\n",
      "Epoch 8/15, Step 600/600, Loss: 0.098941\n",
      "Epoch 9/15, Step 200/600, Loss: 0.199844\n",
      "Epoch 9/15, Step 400/600, Loss: 0.167941\n",
      "Epoch 9/15, Step 600/600, Loss: 0.156217\n",
      "Epoch 10/15, Step 200/600, Loss: 0.108009\n",
      "Epoch 10/15, Step 400/600, Loss: 0.123243\n",
      "Epoch 10/15, Step 600/600, Loss: 0.072214\n",
      "Epoch 11/15, Step 200/600, Loss: 0.084539\n",
      "Epoch 11/15, Step 400/600, Loss: 0.165748\n",
      "Epoch 11/15, Step 600/600, Loss: 0.074152\n",
      "Epoch 12/15, Step 200/600, Loss: 0.070917\n",
      "Epoch 12/15, Step 400/600, Loss: 0.134064\n",
      "Epoch 12/15, Step 600/600, Loss: 0.077458\n",
      "Epoch 13/15, Step 200/600, Loss: 0.052571\n",
      "Epoch 13/15, Step 400/600, Loss: 0.106828\n",
      "Epoch 13/15, Step 600/600, Loss: 0.094988\n",
      "Epoch 14/15, Step 200/600, Loss: 0.071089\n",
      "Epoch 14/15, Step 400/600, Loss: 0.078052\n",
      "Epoch 14/15, Step 600/600, Loss: 0.049656\n",
      "Epoch 15/15, Step 200/600, Loss: 0.048182\n",
      "Epoch 15/15, Step 400/600, Loss: 0.015759\n",
      "Epoch 15/15, Step 600/600, Loss: 0.136271\n",
      "Accuracy: 97.83%\n",
      "97.83\n"
     ]
    },
    {
     "data": {
      "text/plain": [
       "97.83"
      ]
     },
     "execution_count": 5,
     "metadata": {},
     "output_type": "execute_result"
    },
    {
     "data": {
      "text/plain": [
       "<Figure size 432x288 with 0 Axes>"
      ]
     },
     "metadata": {},
     "output_type": "display_data"
    }
   ],
   "source": [
    "outter = 0\n",
    "inner = 0\n",
    "model = Net(num_classes).to(device)\n",
    "for l_r in lr: \n",
    "    total_step = len(train_loader)\n",
    "    counter = 1\n",
    "    l = []\n",
    "    index = []\n",
    "    for epochs in num_epochs:\n",
    "        # model = Net(num_classes).to(device)\n",
    "        # 定义优化器和loss函数\n",
    "        criterion = nn.CrossEntropyLoss()\n",
    "        optimizer = torch.optim.Adam(model.parameters(), lr=l_r)\n",
    "        for epoch in range(epochs):\n",
    "            for i, (images, labels) in enumerate(train_loader):\n",
    "                images = images.to(device)\n",
    "                labels = labels.to(device)\n",
    "                \n",
    "                outputs = model(images)\n",
    "                loss = criterion(outputs, labels)\n",
    "                \n",
    "                optimizer.zero_grad()\n",
    "                loss.backward()\n",
    "                optimizer.step()\n",
    "                \n",
    "                if (i+1) % 200 == 0:\n",
    "                    print ('Epoch {}/{}, Step {}/{}, Loss: {:.6f}' \n",
    "                        .format(epoch+1, epochs, i+1, total_step, loss.item()))\n",
    "                    l.append(loss.item())\n",
    "                    index.append(counter)\n",
    "                    counter += 1\n",
    "        model.eval() \n",
    "        with torch.no_grad():\n",
    "            correct = 0\n",
    "            total = 0\n",
    "            for images, labels in test_loader:\n",
    "                images = images.to(device)\n",
    "                labels = labels.to(device)\n",
    "                outputs = model(images)\n",
    "                _, predicted = torch.max(outputs.data, 1)\n",
    "                total += labels.size(0)\n",
    "                correct += (predicted == labels).sum().item()\n",
    " \n",
    "            print('Accuracy: ' + str(100 * correct / total) + '%')\n",
    "        acc = 100 * correct / total\n",
    "        print(acc)\n",
    "        plt.title(\"Lr:\" + str(l_r) + ' ' + \"Epoch:\" + str(epochs) + ' acc:' + str(acc) + '% Unit:' + str(counter))\n",
    "        plt.xlabel('200 steps/Unit')\n",
    "        plt.ylabel('loss')\n",
    "        plt.plot(index, l, linewidth=1, color=\"orange\", marker=\"o\",label=\"Lr:\" + str(l_r) + ' ' + \"Epoch:\" + str(epochs))\n",
    "        name = \"Lr\" + str(l_r) + ' ' + \"Epoch\" + str(epochs) + \".jpg\"\n",
    "        plt.savefig(name)\n",
    "        plt.clf()\n",
    "        inner += 1\n",
    "        counter = 1\n",
    "        l.clear()\n",
    "        index.clear()\n",
    "    counter = 1\n",
    "    inner=0\n",
    "    outter += 1\n",
    "acc"
   ]
  },
  {
   "cell_type": "code",
   "execution_count": 52,
   "metadata": {},
   "outputs": [
    {
     "name": "stdout",
     "output_type": "stream",
     "text": [
      "[ 7.2253804  -9.852907    0.1318919  -4.524937   -4.214551   -1.3858266\n",
      "  0.32618657 -5.759858   -0.4751768  -1.0035301 ]\n",
      "识别结果为:0\n"
     ]
    },
    {
     "data": {
      "image/png": "[encoded data removed]",
      "text/plain": [
       "<Figure size 432x288 with 1 Axes>"
      ]
     },
     "metadata": {
      "needs_background": "light"
     },
     "output_type": "display_data"
    }
   ],
   "source": [
    "for i, (images, labels) in enumerate(train_loader):\n",
    "    if i == 1:\n",
    "        break\n",
    "    plt.imshow(images[i][0])\n",
    "    images = images.to(device)\n",
    "    res = model(images).detach().cpu().numpy()\n",
    "    idx = res[i]\n",
    "    print(idx)\n",
    "    print('识别结果为:' + str(np.where(idx == max(idx))[0][0]))\n",
    "    "
   ]
  },
  {
   "cell_type": "code",
   "execution_count": null,
   "metadata": {},
   "outputs": [],
   "source": []
  },
  {
   "cell_type": "code",
   "execution_count": null,
   "metadata": {},
   "outputs": [],
   "source": []
  }
 ],
 "metadata": {
  "kernelspec": {
   "display_name": "pytorch_gpu",
   "language": "python",
   "name": "python3"
  },
  "language_info": {
   "codemirror_mode": {
    "name": "ipython",
    "version": 3
   },
   "file_extension": ".py",
   "mimetype": "text/x-python",
   "name": "python",
   "nbconvert_exporter": "python",
   "pygments_lexer": "ipython3",
   "version": "3.9.12"
  },
  "orig_nbformat": 4
 },
 "nbformat": 4,
 "nbformat_minor": 2
}
